{
 "cells": [
  {
   "cell_type": "code",
   "execution_count": 113,
   "id": "a1b28ff0-6580-4c71-97bc-a50beacf141d",
   "metadata": {},
   "outputs": [],
   "source": [
    "import requests\n",
    "from bs4 import BeautifulSoup\n",
    "import pandas as pd\n",
    "\n",
    "# Function to scrape data from a single URL and return it as a DataFrame.    \n",
    "def scrape_data_from_url(url):\n",
    "     \n",
    "    # Send a GET request to the website to fetch the HTML content\n",
    "    response = requests.get(url)\n",
    "\n",
    "    # Parse the HTML content using BeautifulSoup\n",
    "    soup = BeautifulSoup(response.text, 'html.parser')\n",
    "\n",
    "    # Find all the product elements on the page\n",
    "    products = soup.find_all('div', class_='thumbnail')\n",
    "\n",
    "    # Initialize an empty list to store the extracted data\n",
    "    laptop_data = []\n",
    "\n",
    "    # Loop through each product to extract details\n",
    "    for product in products:\n",
    "        # Extract the title of the product\n",
    "        title = product.find('a', class_='title').text.strip()\n",
    "\n",
    "        # Extract the price of the product\n",
    "        price = product.find('h4', class_='price').text.strip()\n",
    "    \n",
    "        # Extract the description of the product\n",
    "        description = product.find('p', class_='description').text.strip()\n",
    "\n",
    "        # Extract the number of reviews\n",
    "        reviews = product.find('div', class_='ratings').text.strip()\n",
    "\n",
    "        # Extract the rating (number of stars)\n",
    "        rating_spans = product.find('div', class_='ratings').find_all('span', class_='ws-icon ws-icon-star')\n",
    "        rating = len(rating_spans)\n",
    "\n",
    "        # Store the extracted data\n",
    "        laptop_data.append({\n",
    "            'Title': title,\n",
    "            'Price': price,\n",
    "            'Description': description,\n",
    "            'Reviews': reviews,\n",
    "            'Rating': rating\n",
    "                })\n",
    "    \n",
    "        # Convert the extracted data to a DataFrame\n",
    "        df = pd.DataFrame(laptop_data)\n",
    "    \n",
    "    return df\n",
    "    "
   ]
  }
 ],
 "metadata": {
  "kernelspec": {
   "display_name": "Python 3 (ipykernel)",
   "language": "python",
   "name": "python3"
  },
  "language_info": {
   "codemirror_mode": {
    "name": "ipython",
    "version": 3
   },
   "file_extension": ".py",
   "mimetype": "text/x-python",
   "name": "python",
   "nbconvert_exporter": "python",
   "pygments_lexer": "ipython3",
   "version": "3.12.7"
  }
 },
 "nbformat": 4,
 "nbformat_minor": 5
}
